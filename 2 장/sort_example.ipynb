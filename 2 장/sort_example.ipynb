{
 "cells": [
  {
   "cell_type": "code",
   "execution_count": null,
   "metadata": {
    "collapsed": true
   },
   "outputs": [],
   "source": [
    "# K 최근접 이웃 알고리즘"
   ]
  },
  {
   "cell_type": "code",
   "execution_count": 18,
   "metadata": {},
   "outputs": [
    {
     "data": {
      "text/plain": [
       "array([[0.77132064, 0.02075195],\n",
       "       [0.63364823, 0.74880388],\n",
       "       [0.49850701, 0.22479665],\n",
       "       [0.19806286, 0.76053071],\n",
       "       [0.16911084, 0.08833981],\n",
       "       [0.68535982, 0.95339335],\n",
       "       [0.00394827, 0.51219226],\n",
       "       [0.81262096, 0.61252607],\n",
       "       [0.72175532, 0.29187607],\n",
       "       [0.91777412, 0.71457578]])"
      ]
     },
     "execution_count": 18,
     "metadata": {},
     "output_type": "execute_result"
    }
   ],
   "source": [
    "import numpy as np\n",
    "\n",
    "np.random.seed(10)\n",
    "\n",
    "X = np.random.random((10,2))\n",
    "X"
   ]
  },
  {
   "cell_type": "code",
   "execution_count": 19,
   "metadata": {},
   "outputs": [
    {
     "data": {
      "text/plain": [
       "<matplotlib.collections.PathCollection at 0x1b6e6b305c0>"
      ]
     },
     "execution_count": 19,
     "metadata": {},
     "output_type": "execute_result"
    },
    {
     "data": {
      "image/png": "[encoded data removed]",
      "text/plain": [
       "<Figure size 432x288 with 1 Axes>"
      ]
     },
     "metadata": {},
     "output_type": "display_data"
    }
   ],
   "source": [
    "%matplotlib inline\n",
    "import matplotlib.pyplot as plt\n",
    "\n",
    "#산점도\n",
    "plt.scatter(X[:,0], X[:,1], s=100)"
   ]
  },
  {
   "cell_type": "code",
   "execution_count": 23,
   "metadata": {},
   "outputs": [
    {
     "name": "stdout",
     "output_type": "stream",
     "text": [
      "[0. 0. 0. 0. 0. 0. 0. 0. 0. 0.]\n",
      "[[0 8 2 7 4 9 1 6 3 5]\n",
      " [1 5 7 9 3 8 2 6 0 4]\n",
      " [2 8 0 4 7 1 6 3 9 5]\n",
      " [3 6 1 5 2 7 4 8 9 0]\n",
      " [4 2 6 8 0 3 1 7 9 5]\n",
      " [5 1 9 7 3 8 2 6 0 4]\n",
      " [6 3 4 2 1 8 5 7 0 9]\n",
      " [7 9 1 8 5 2 0 3 6 4]\n",
      " [8 2 0 7 1 9 4 5 3 6]\n",
      " [9 7 1 5 8 2 0 3 6 4]]\n"
     ]
    }
   ],
   "source": [
    "# 각 쌍의 점 사이의 거리를 계산\n",
    "# 각 쌍의 점 사이의 좌표 차이를 구한 후 제곱\n",
    "# 제곱 거리를 구하기 위해 좌표 차이를 더한다\n",
    "dist_sq = np.sum((X[:,np.newaxis,:]-X[np.newaxis,:,:]) **2, axis=-1)\n",
    "\n",
    "# 검증 : 행렬의 대각선이 0인지 확인_대각선 : 자신과 자신 사이의 거리 집합\n",
    "esti = dist_sq.diagonal()\n",
    "print(esti)\n",
    "\n",
    "# 제곱 거리 반환\n",
    "nearest = np.argsort(dist_sq, axis=1)\n",
    "print(nearest)"
   ]
  },
  {
   "cell_type": "code",
   "execution_count": 28,
   "metadata": {},
   "outputs": [
    {
     "data": {
      "image/png": "[encoded data removed]",
      "text/plain": [
       "<Figure size 432x288 with 1 Axes>"
      ]
     },
     "metadata": {},
     "output_type": "display_data"
    }
   ],
   "source": [
    "# 가장 가까운 K 이웃을 구함\n",
    "k=2\n",
    "nearest_partition = np.argpartition(dist_sq, k+1, axis=1)\n",
    "\n",
    "# 이웃의 네트워크를 시각화_ 가장 가까운 두 개의 이웃과 연결\n",
    "plt.scatter(X[:,0], X[:,1], s=100)\n",
    "\n",
    "k=2\n",
    "for i in range(X.shape[0]):\n",
    "    for j in nearest_partition[i,:k+1]:\n",
    "        # X[i]부터 X[j]까지 선으로 이음\n",
    "        # zip 매직함수 이용\n",
    "        plt.plot(*zip(X[j], X[i]), color='black')"
   ]
  }
 ],
 "metadata": {
  "kernelspec": {
   "display_name": "Python 3",
   "language": "python",
   "name": "python3"
  },
  "language_info": {
   "codemirror_mode": {
    "name": "ipython",
    "version": 3
   },
   "file_extension": ".py",
   "mimetype": "text/x-python",
   "name": "python",
   "nbconvert_exporter": "python",
   "pygments_lexer": "ipython3",
   "version": "3.6.1"
  }
 },
 "nbformat": 4,
 "nbformat_minor": 2
}
