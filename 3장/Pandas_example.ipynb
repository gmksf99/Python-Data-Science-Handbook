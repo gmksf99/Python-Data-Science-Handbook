{
  "nbformat": 4,
  "nbformat_minor": 0,
  "metadata": {
    "colab": {
      "name": "Pandas_example.ipynb",
      "provenance": [],
      "collapsed_sections": []
    },
    "kernelspec": {
      "name": "python3",
      "display_name": "Python 3"
    }
  },
  "cells": [
    {
      "cell_type": "markdown",
      "metadata": {
        "id": "083YjuxdWw2J"
      },
      "source": [
        "# Pandas 예제 : 미국 출생률에 휴일이 미치는 영향\r\n",
        "출생율 데이터 : https://raw.githubusercontent.com/jakevdp/data-CDCbirths/master/births.csv\r\n",
        "\r\n",
        "- 날짜, 성별로 분류한 출생 수를 담고 있음\r\n"
      ]
    },
    {
      "cell_type": "code",
      "metadata": {
        "colab": {
          "base_uri": "https://localhost:8080/",
          "height": 204
        },
        "id": "cnvfuqm7Vhfa",
        "outputId": "a8f3d6cd-f2c6-449c-92c7-3e51d0be4d1e"
      },
      "source": [
        "import pandas as pd\r\n",
        "\r\n",
        "births = pd.read_csv('births.csv')\r\n",
        "births.head()"
      ],
      "execution_count": 2,
      "outputs": [
        {
          "output_type": "execute_result",
          "data": {
            "text/html": [
              "<div>\n",
              "<style scoped>\n",
              "    .dataframe tbody tr th:only-of-type {\n",
              "        vertical-align: middle;\n",
              "    }\n",
              "\n",
              "    .dataframe tbody tr th {\n",
              "        vertical-align: top;\n",
              "    }\n",
              "\n",
              "    .dataframe thead th {\n",
              "        text-align: right;\n",
              "    }\n",
              "</style>\n",
              "<table border=\"1\" class=\"dataframe\">\n",
              "  <thead>\n",
              "    <tr style=\"text-align: right;\">\n",
              "      <th></th>\n",
              "      <th>year</th>\n",
              "      <th>month</th>\n",
              "      <th>day</th>\n",
              "      <th>gender</th>\n",
              "      <th>births</th>\n",
              "    </tr>\n",
              "  </thead>\n",
              "  <tbody>\n",
              "    <tr>\n",
              "      <th>0</th>\n",
              "      <td>1969</td>\n",
              "      <td>1</td>\n",
              "      <td>1.0</td>\n",
              "      <td>F</td>\n",
              "      <td>4046</td>\n",
              "    </tr>\n",
              "    <tr>\n",
              "      <th>1</th>\n",
              "      <td>1969</td>\n",
              "      <td>1</td>\n",
              "      <td>1.0</td>\n",
              "      <td>M</td>\n",
              "      <td>4440</td>\n",
              "    </tr>\n",
              "    <tr>\n",
              "      <th>2</th>\n",
              "      <td>1969</td>\n",
              "      <td>1</td>\n",
              "      <td>2.0</td>\n",
              "      <td>F</td>\n",
              "      <td>4454</td>\n",
              "    </tr>\n",
              "    <tr>\n",
              "      <th>3</th>\n",
              "      <td>1969</td>\n",
              "      <td>1</td>\n",
              "      <td>2.0</td>\n",
              "      <td>M</td>\n",
              "      <td>4548</td>\n",
              "    </tr>\n",
              "    <tr>\n",
              "      <th>4</th>\n",
              "      <td>1969</td>\n",
              "      <td>1</td>\n",
              "      <td>3.0</td>\n",
              "      <td>F</td>\n",
              "      <td>4548</td>\n",
              "    </tr>\n",
              "  </tbody>\n",
              "</table>\n",
              "</div>"
            ],
            "text/plain": [
              "   year  month  day gender  births\n",
              "0  1969      1  1.0      F    4046\n",
              "1  1969      1  1.0      M    4440\n",
              "2  1969      1  2.0      F    4454\n",
              "3  1969      1  2.0      M    4548\n",
              "4  1969      1  3.0      F    4548"
            ]
          },
          "metadata": {
            "tags": []
          },
          "execution_count": 2
        }
      ]
    },
    {
      "cell_type": "code",
      "metadata": {
        "colab": {
          "base_uri": "https://localhost:8080/",
          "height": 235
        },
        "id": "as4-yXCNXRxk",
        "outputId": "6cb72404-54f3-4043-bf11-b2456e4f3e75"
      },
      "source": [
        "# 연대별 남녀의 출생 수\r\n",
        "births['decade'] = 10 * (births['year'] // 10) # 10으로 나누어 일의 자리를 없애줌 최종적으로 ex, 1969년 => 1960년대로 출력\r\n",
        "\r\n",
        "# aggfunc : 어떤 유형의 집계를 적용할지, 디폴트값 : 평균\r\n",
        "b_df = births.pivot_table('births', index='decade', columns='gender', aggfunc='sum')\r\n",
        "b_df"
      ],
      "execution_count": 17,
      "outputs": [
        {
          "output_type": "execute_result",
          "data": {
            "text/html": [
              "<div>\n",
              "<style scoped>\n",
              "    .dataframe tbody tr th:only-of-type {\n",
              "        vertical-align: middle;\n",
              "    }\n",
              "\n",
              "    .dataframe tbody tr th {\n",
              "        vertical-align: top;\n",
              "    }\n",
              "\n",
              "    .dataframe thead th {\n",
              "        text-align: right;\n",
              "    }\n",
              "</style>\n",
              "<table border=\"1\" class=\"dataframe\">\n",
              "  <thead>\n",
              "    <tr style=\"text-align: right;\">\n",
              "      <th>gender</th>\n",
              "      <th>F</th>\n",
              "      <th>M</th>\n",
              "    </tr>\n",
              "    <tr>\n",
              "      <th>decade</th>\n",
              "      <th></th>\n",
              "      <th></th>\n",
              "    </tr>\n",
              "  </thead>\n",
              "  <tbody>\n",
              "    <tr>\n",
              "      <th>1960</th>\n",
              "      <td>1753634</td>\n",
              "      <td>1846572</td>\n",
              "    </tr>\n",
              "    <tr>\n",
              "      <th>1970</th>\n",
              "      <td>16263075</td>\n",
              "      <td>17121550</td>\n",
              "    </tr>\n",
              "    <tr>\n",
              "      <th>1980</th>\n",
              "      <td>18310351</td>\n",
              "      <td>19243452</td>\n",
              "    </tr>\n",
              "    <tr>\n",
              "      <th>1990</th>\n",
              "      <td>19479454</td>\n",
              "      <td>20420553</td>\n",
              "    </tr>\n",
              "    <tr>\n",
              "      <th>2000</th>\n",
              "      <td>18229309</td>\n",
              "      <td>19106428</td>\n",
              "    </tr>\n",
              "  </tbody>\n",
              "</table>\n",
              "</div>"
            ],
            "text/plain": [
              "gender         F         M\n",
              "decade                    \n",
              "1960     1753634   1846572\n",
              "1970    16263075  17121550\n",
              "1980    18310351  19243452\n",
              "1990    19479454  20420553\n",
              "2000    18229309  19106428"
            ]
          },
          "metadata": {
            "tags": []
          },
          "execution_count": 17
        }
      ]
    },
    {
      "cell_type": "code",
      "metadata": {
        "colab": {
          "base_uri": "https://localhost:8080/",
          "height": 419
        },
        "id": "ecc6MRsMaAQs",
        "outputId": "805a7830-9429-498b-86b0-c03c26c82511"
      },
      "source": [
        "import numpy as np\r\n",
        "\r\n",
        "quartiles = np.percentile(births['births'], [25, 50, 75])\r\n",
        "mu = quartiles[1]\r\n",
        "sig = 0.74 * (quartiles[2]-quartiles[0])\r\n",
        "\r\n",
        "# query()를 사용해 값에서 벗어난 출생 수를 가진 행을 걸러줌\r\n",
        "births = births.query('(births > @mu - 5 * @sig) & (births < @mu + 5 * @sig)')\r\n",
        "\r\n",
        "births['day'] = births['day'].astype(int)\r\n",
        "\r\n",
        "# 날짜, 월, 연도를 결합해 Date 인덱스를 생성\r\n",
        "births.index = pd.to_datetime(10000 * births.year + 100 * births.month + births.day, format='%Y%m%d')\r\n",
        "births['dayofweek'] = births.index.dayofweek\r\n",
        "\r\n",
        "births"
      ],
      "execution_count": 26,
      "outputs": [
        {
          "output_type": "execute_result",
          "data": {
            "text/html": [
              "<div>\n",
              "<style scoped>\n",
              "    .dataframe tbody tr th:only-of-type {\n",
              "        vertical-align: middle;\n",
              "    }\n",
              "\n",
              "    .dataframe tbody tr th {\n",
              "        vertical-align: top;\n",
              "    }\n",
              "\n",
              "    .dataframe thead th {\n",
              "        text-align: right;\n",
              "    }\n",
              "</style>\n",
              "<table border=\"1\" class=\"dataframe\">\n",
              "  <thead>\n",
              "    <tr style=\"text-align: right;\">\n",
              "      <th></th>\n",
              "      <th>year</th>\n",
              "      <th>month</th>\n",
              "      <th>day</th>\n",
              "      <th>gender</th>\n",
              "      <th>births</th>\n",
              "      <th>decade</th>\n",
              "      <th>dayofweek</th>\n",
              "    </tr>\n",
              "  </thead>\n",
              "  <tbody>\n",
              "    <tr>\n",
              "      <th>1969-01-01</th>\n",
              "      <td>1969</td>\n",
              "      <td>1</td>\n",
              "      <td>1</td>\n",
              "      <td>F</td>\n",
              "      <td>4046</td>\n",
              "      <td>1960</td>\n",
              "      <td>2</td>\n",
              "    </tr>\n",
              "    <tr>\n",
              "      <th>1969-01-01</th>\n",
              "      <td>1969</td>\n",
              "      <td>1</td>\n",
              "      <td>1</td>\n",
              "      <td>M</td>\n",
              "      <td>4440</td>\n",
              "      <td>1960</td>\n",
              "      <td>2</td>\n",
              "    </tr>\n",
              "    <tr>\n",
              "      <th>1969-01-02</th>\n",
              "      <td>1969</td>\n",
              "      <td>1</td>\n",
              "      <td>2</td>\n",
              "      <td>F</td>\n",
              "      <td>4454</td>\n",
              "      <td>1960</td>\n",
              "      <td>3</td>\n",
              "    </tr>\n",
              "    <tr>\n",
              "      <th>1969-01-02</th>\n",
              "      <td>1969</td>\n",
              "      <td>1</td>\n",
              "      <td>2</td>\n",
              "      <td>M</td>\n",
              "      <td>4548</td>\n",
              "      <td>1960</td>\n",
              "      <td>3</td>\n",
              "    </tr>\n",
              "    <tr>\n",
              "      <th>1969-01-03</th>\n",
              "      <td>1969</td>\n",
              "      <td>1</td>\n",
              "      <td>3</td>\n",
              "      <td>F</td>\n",
              "      <td>4548</td>\n",
              "      <td>1960</td>\n",
              "      <td>4</td>\n",
              "    </tr>\n",
              "    <tr>\n",
              "      <th>...</th>\n",
              "      <td>...</td>\n",
              "      <td>...</td>\n",
              "      <td>...</td>\n",
              "      <td>...</td>\n",
              "      <td>...</td>\n",
              "      <td>...</td>\n",
              "      <td>...</td>\n",
              "    </tr>\n",
              "    <tr>\n",
              "      <th>1988-12-29</th>\n",
              "      <td>1988</td>\n",
              "      <td>12</td>\n",
              "      <td>29</td>\n",
              "      <td>M</td>\n",
              "      <td>5944</td>\n",
              "      <td>1980</td>\n",
              "      <td>3</td>\n",
              "    </tr>\n",
              "    <tr>\n",
              "      <th>1988-12-30</th>\n",
              "      <td>1988</td>\n",
              "      <td>12</td>\n",
              "      <td>30</td>\n",
              "      <td>F</td>\n",
              "      <td>5742</td>\n",
              "      <td>1980</td>\n",
              "      <td>4</td>\n",
              "    </tr>\n",
              "    <tr>\n",
              "      <th>1988-12-30</th>\n",
              "      <td>1988</td>\n",
              "      <td>12</td>\n",
              "      <td>30</td>\n",
              "      <td>M</td>\n",
              "      <td>6095</td>\n",
              "      <td>1980</td>\n",
              "      <td>4</td>\n",
              "    </tr>\n",
              "    <tr>\n",
              "      <th>1988-12-31</th>\n",
              "      <td>1988</td>\n",
              "      <td>12</td>\n",
              "      <td>31</td>\n",
              "      <td>F</td>\n",
              "      <td>4435</td>\n",
              "      <td>1980</td>\n",
              "      <td>5</td>\n",
              "    </tr>\n",
              "    <tr>\n",
              "      <th>1988-12-31</th>\n",
              "      <td>1988</td>\n",
              "      <td>12</td>\n",
              "      <td>31</td>\n",
              "      <td>M</td>\n",
              "      <td>4698</td>\n",
              "      <td>1980</td>\n",
              "      <td>5</td>\n",
              "    </tr>\n",
              "  </tbody>\n",
              "</table>\n",
              "<p>14610 rows × 7 columns</p>\n",
              "</div>"
            ],
            "text/plain": [
              "            year  month  day gender  births  decade  dayofweek\n",
              "1969-01-01  1969      1    1      F    4046    1960          2\n",
              "1969-01-01  1969      1    1      M    4440    1960          2\n",
              "1969-01-02  1969      1    2      F    4454    1960          3\n",
              "1969-01-02  1969      1    2      M    4548    1960          3\n",
              "1969-01-03  1969      1    3      F    4548    1960          4\n",
              "...          ...    ...  ...    ...     ...     ...        ...\n",
              "1988-12-29  1988     12   29      M    5944    1980          3\n",
              "1988-12-30  1988     12   30      F    5742    1980          4\n",
              "1988-12-30  1988     12   30      M    6095    1980          4\n",
              "1988-12-31  1988     12   31      F    4435    1980          5\n",
              "1988-12-31  1988     12   31      M    4698    1980          5\n",
              "\n",
              "[14610 rows x 7 columns]"
            ]
          },
          "metadata": {
            "tags": []
          },
          "execution_count": 26
        }
      ]
    },
    {
      "cell_type": "code",
      "metadata": {
        "colab": {
          "base_uri": "https://localhost:8080/"
        },
        "id": "p4g4s_joeqkv",
        "outputId": "194c4079-fb65-48e4-9b96-660b8a8afb1c"
      },
      "source": [
        "import matplotlib as mpl\r\n",
        "import matplotlib.pyplot as plt\r\n",
        "%matplotlib\r\n",
        "\r\n",
        "births.pivot_table('births', index='dayofweek', columns='decade', aggfunc='mean').plot()\r\n",
        "plt.gca().set_xticklabels(['Mon', 'Tues', 'Wed', 'Thurs', 'Fri', 'Sat', 'Sun'])\r\n",
        "plt.ylabel('mean births by day')"
      ],
      "execution_count": 41,
      "outputs": [
        {
          "output_type": "stream",
          "text": [
            "Using matplotlib backend: agg\n"
          ],
          "name": "stdout"
        },
        {
          "output_type": "execute_result",
          "data": {
            "text/plain": [
              "Text(0, 0.5, 'mean births by day')"
            ]
          },
          "metadata": {
            "tags": []
          },
          "execution_count": 41
        }
      ]
    },
    {
      "cell_type": "markdown",
      "metadata": {
        "id": "IwFVt288fiT9"
      },
      "source": [
        "출생 수가 주중보다 주말에 약간 더 낮았다."
      ]
    },
    {
      "cell_type": "code",
      "metadata": {
        "colab": {
          "base_uri": "https://localhost:8080/",
          "height": 204
        },
        "id": "_z0UpbcZfaYb",
        "outputId": "4f7d602f-411e-4047-8557-d3e08ff81dfb"
      },
      "source": [
        "births_by_date = births.pivot_table('births', [births.index.month, births.index.day])\r\n",
        "births_by_date.head()"
      ],
      "execution_count": 36,
      "outputs": [
        {
          "output_type": "execute_result",
          "data": {
            "text/html": [
              "<div>\n",
              "<style scoped>\n",
              "    .dataframe tbody tr th:only-of-type {\n",
              "        vertical-align: middle;\n",
              "    }\n",
              "\n",
              "    .dataframe tbody tr th {\n",
              "        vertical-align: top;\n",
              "    }\n",
              "\n",
              "    .dataframe thead th {\n",
              "        text-align: right;\n",
              "    }\n",
              "</style>\n",
              "<table border=\"1\" class=\"dataframe\">\n",
              "  <thead>\n",
              "    <tr style=\"text-align: right;\">\n",
              "      <th></th>\n",
              "      <th></th>\n",
              "      <th>births</th>\n",
              "    </tr>\n",
              "  </thead>\n",
              "  <tbody>\n",
              "    <tr>\n",
              "      <th rowspan=\"5\" valign=\"top\">1</th>\n",
              "      <th>1</th>\n",
              "      <td>4009.225</td>\n",
              "    </tr>\n",
              "    <tr>\n",
              "      <th>2</th>\n",
              "      <td>4247.400</td>\n",
              "    </tr>\n",
              "    <tr>\n",
              "      <th>3</th>\n",
              "      <td>4500.900</td>\n",
              "    </tr>\n",
              "    <tr>\n",
              "      <th>4</th>\n",
              "      <td>4571.350</td>\n",
              "    </tr>\n",
              "    <tr>\n",
              "      <th>5</th>\n",
              "      <td>4603.625</td>\n",
              "    </tr>\n",
              "  </tbody>\n",
              "</table>\n",
              "</div>"
            ],
            "text/plain": [
              "       births\n",
              "1 1  4009.225\n",
              "  2  4247.400\n",
              "  3  4500.900\n",
              "  4  4571.350\n",
              "  5  4603.625"
            ]
          },
          "metadata": {
            "tags": []
          },
          "execution_count": 36
        }
      ]
    },
    {
      "cell_type": "code",
      "metadata": {
        "colab": {
          "base_uri": "https://localhost:8080/"
        },
        "id": "vKX8-TcGf_9Y",
        "outputId": "bcf04241-bb0e-4cf2-fc2d-eeb3944bf6b8"
      },
      "source": [
        "flg, ax = plt.subplots(figsize=(12,4))\r\n",
        "births_by_date.plot(ax=ax)"
      ],
      "execution_count": 40,
      "outputs": [
        {
          "output_type": "execute_result",
          "data": {
            "text/plain": [
              "<matplotlib.axes._subplots.AxesSubplot at 0x7f6c77bb78d0>"
            ]
          },
          "metadata": {
            "tags": []
          },
          "execution_count": 40
        }
      ]
    },
    {
      "cell_type": "markdown",
      "metadata": {
        "id": "GPDxB5U-gnV8"
      },
      "source": [
        "# 분석\r\n",
        "- 미국의 휴일(독립 기념일/ 노동절/ 추수감사절/ 크리스마스/ 새해 /..)에는 출생률이 급감했다\r\n",
        "- 자연분만에 대한 깊은 정신적, 신체적 효과라기보다는 예정 분먼 맟 유도 분만을 선호했던 경향이 반영된 것으로 보임"
      ]
    }
  ]
}