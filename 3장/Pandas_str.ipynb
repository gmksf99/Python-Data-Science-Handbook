{
  "nbformat": 4,
  "nbformat_minor": 0,
  "metadata": {
    "colab": {
      "name": "Pandas_str.ipynb",
      "provenance": []
    },
    "kernelspec": {
      "name": "python3",
      "display_name": "Python 3"
    }
  },
  "cells": [
    {
      "cell_type": "markdown",
      "metadata": {
        "id": "mfeXqjCXiwaG"
      },
      "source": [
        "# 문자열 메서드"
      ]
    },
    {
      "cell_type": "code",
      "metadata": {
        "colab": {
          "base_uri": "https://localhost:8080/"
        },
        "id": "q-04pWvLirvQ",
        "outputId": "d5f97eea-edfb-4012-e900-3a8d202109d6"
      },
      "source": [
        "import pandas as pd\r\n",
        "\r\n",
        "monte = pd.Series(['Graham Chapman', 'John Cleese', 'Terry Gilliam', 'Eric Idle', 'Terry Johes', 'Michael Palin'])\r\n",
        "\r\n",
        "# 소문자 반환\r\n",
        "monte.str.lower()"
      ],
      "execution_count": 2,
      "outputs": [
        {
          "output_type": "execute_result",
          "data": {
            "text/plain": [
              "0    graham chapman\n",
              "1       john cleese\n",
              "2     terry gilliam\n",
              "3         eric idle\n",
              "4       terry johes\n",
              "5     michael palin\n",
              "dtype: object"
            ]
          },
          "metadata": {
            "tags": []
          },
          "execution_count": 2
        }
      ]
    },
    {
      "cell_type": "code",
      "metadata": {
        "colab": {
          "base_uri": "https://localhost:8080/"
        },
        "id": "Vus_I0ytjTb5",
        "outputId": "d68b9323-6313-45b5-85b0-5cc3bf1148a5"
      },
      "source": [
        "# 글자 수 반환\r\n",
        "monte.str.len()"
      ],
      "execution_count": 3,
      "outputs": [
        {
          "output_type": "execute_result",
          "data": {
            "text/plain": [
              "0    14\n",
              "1    11\n",
              "2    13\n",
              "3     9\n",
              "4    11\n",
              "5    13\n",
              "dtype: int64"
            ]
          },
          "metadata": {
            "tags": []
          },
          "execution_count": 3
        }
      ]
    },
    {
      "cell_type": "code",
      "metadata": {
        "colab": {
          "base_uri": "https://localhost:8080/"
        },
        "id": "4C8QvATkjeQ2",
        "outputId": "dd99e21e-cb4b-48a2-b675-571f9f5ddd75"
      },
      "source": [
        "# 띄어쓰기 기준으로 나누어 리스트로 반환\r\n",
        "monte.str.split()"
      ],
      "execution_count": 4,
      "outputs": [
        {
          "output_type": "execute_result",
          "data": {
            "text/plain": [
              "0    [Graham, Chapman]\n",
              "1       [John, Cleese]\n",
              "2     [Terry, Gilliam]\n",
              "3         [Eric, Idle]\n",
              "4       [Terry, Johes]\n",
              "5     [Michael, Palin]\n",
              "dtype: object"
            ]
          },
          "metadata": {
            "tags": []
          },
          "execution_count": 4
        }
      ]
    },
    {
      "cell_type": "code",
      "metadata": {
        "colab": {
          "base_uri": "https://localhost:8080/",
          "height": 235
        },
        "id": "8cNKjGOsjtWB",
        "outputId": "de21b45b-2cef-409f-ef13-dabe637365d8"
      },
      "source": [
        "# 각 요소의 시작 문자와 붙어 있는 그룹을 요청해 각 요소로부터 이름 부분을 추출\r\n",
        "monte.str.extract('([A-Za-z]+)')"
      ],
      "execution_count": 5,
      "outputs": [
        {
          "output_type": "execute_result",
          "data": {
            "text/html": [
              "<div>\n",
              "<style scoped>\n",
              "    .dataframe tbody tr th:only-of-type {\n",
              "        vertical-align: middle;\n",
              "    }\n",
              "\n",
              "    .dataframe tbody tr th {\n",
              "        vertical-align: top;\n",
              "    }\n",
              "\n",
              "    .dataframe thead th {\n",
              "        text-align: right;\n",
              "    }\n",
              "</style>\n",
              "<table border=\"1\" class=\"dataframe\">\n",
              "  <thead>\n",
              "    <tr style=\"text-align: right;\">\n",
              "      <th></th>\n",
              "      <th>0</th>\n",
              "    </tr>\n",
              "  </thead>\n",
              "  <tbody>\n",
              "    <tr>\n",
              "      <th>0</th>\n",
              "      <td>Graham</td>\n",
              "    </tr>\n",
              "    <tr>\n",
              "      <th>1</th>\n",
              "      <td>John</td>\n",
              "    </tr>\n",
              "    <tr>\n",
              "      <th>2</th>\n",
              "      <td>Terry</td>\n",
              "    </tr>\n",
              "    <tr>\n",
              "      <th>3</th>\n",
              "      <td>Eric</td>\n",
              "    </tr>\n",
              "    <tr>\n",
              "      <th>4</th>\n",
              "      <td>Terry</td>\n",
              "    </tr>\n",
              "    <tr>\n",
              "      <th>5</th>\n",
              "      <td>Michael</td>\n",
              "    </tr>\n",
              "  </tbody>\n",
              "</table>\n",
              "</div>"
            ],
            "text/plain": [
              "         0\n",
              "0   Graham\n",
              "1     John\n",
              "2    Terry\n",
              "3     Eric\n",
              "4    Terry\n",
              "5  Michael"
            ]
          },
          "metadata": {
            "tags": []
          },
          "execution_count": 5
        }
      ]
    },
    {
      "cell_type": "code",
      "metadata": {
        "colab": {
          "base_uri": "https://localhost:8080/"
        },
        "id": "FmRLEhgxj_4T",
        "outputId": "ee8d6f48-388a-4e41-e77a-ddd7fbfd2202"
      },
      "source": [
        "# 문자열 시작(^)과 문자열 끝($)을 사용해 자음으로 시작하고 끝나는 모든 이름을 찾음\r\n",
        "monte.str.findall(r'^[^AEIOU].*[^aeiou]$')"
      ],
      "execution_count": 6,
      "outputs": [
        {
          "output_type": "execute_result",
          "data": {
            "text/plain": [
              "0    [Graham Chapman]\n",
              "1                  []\n",
              "2     [Terry Gilliam]\n",
              "3                  []\n",
              "4       [Terry Johes]\n",
              "5     [Michael Palin]\n",
              "dtype: object"
            ]
          },
          "metadata": {
            "tags": []
          },
          "execution_count": 6
        }
      ]
    },
    {
      "cell_type": "code",
      "metadata": {
        "colab": {
          "base_uri": "https://localhost:8080/",
          "height": 235
        },
        "id": "twLIlefllzbR",
        "outputId": "a6516f42-b389-477d-a56c-06ad13dcbf07"
      },
      "source": [
        "full_monte = pd.DataFrame({'name' : monte, 'info' : ['B|C|D', 'B|D', 'A|C', 'B|D', 'B|C', 'B|C|D']})\r\n",
        "full_monte"
      ],
      "execution_count": 9,
      "outputs": [
        {
          "output_type": "execute_result",
          "data": {
            "text/html": [
              "<div>\n",
              "<style scoped>\n",
              "    .dataframe tbody tr th:only-of-type {\n",
              "        vertical-align: middle;\n",
              "    }\n",
              "\n",
              "    .dataframe tbody tr th {\n",
              "        vertical-align: top;\n",
              "    }\n",
              "\n",
              "    .dataframe thead th {\n",
              "        text-align: right;\n",
              "    }\n",
              "</style>\n",
              "<table border=\"1\" class=\"dataframe\">\n",
              "  <thead>\n",
              "    <tr style=\"text-align: right;\">\n",
              "      <th></th>\n",
              "      <th>name</th>\n",
              "      <th>info</th>\n",
              "    </tr>\n",
              "  </thead>\n",
              "  <tbody>\n",
              "    <tr>\n",
              "      <th>0</th>\n",
              "      <td>Graham Chapman</td>\n",
              "      <td>B|C|D</td>\n",
              "    </tr>\n",
              "    <tr>\n",
              "      <th>1</th>\n",
              "      <td>John Cleese</td>\n",
              "      <td>B|D</td>\n",
              "    </tr>\n",
              "    <tr>\n",
              "      <th>2</th>\n",
              "      <td>Terry Gilliam</td>\n",
              "      <td>A|C</td>\n",
              "    </tr>\n",
              "    <tr>\n",
              "      <th>3</th>\n",
              "      <td>Eric Idle</td>\n",
              "      <td>B|D</td>\n",
              "    </tr>\n",
              "    <tr>\n",
              "      <th>4</th>\n",
              "      <td>Terry Johes</td>\n",
              "      <td>B|C</td>\n",
              "    </tr>\n",
              "    <tr>\n",
              "      <th>5</th>\n",
              "      <td>Michael Palin</td>\n",
              "      <td>B|C|D</td>\n",
              "    </tr>\n",
              "  </tbody>\n",
              "</table>\n",
              "</div>"
            ],
            "text/plain": [
              "             name   info\n",
              "0  Graham Chapman  B|C|D\n",
              "1     John Cleese    B|D\n",
              "2   Terry Gilliam    A|C\n",
              "3       Eric Idle    B|D\n",
              "4     Terry Johes    B|C\n",
              "5   Michael Palin  B|C|D"
            ]
          },
          "metadata": {
            "tags": []
          },
          "execution_count": 9
        }
      ]
    },
    {
      "cell_type": "code",
      "metadata": {
        "colab": {
          "base_uri": "https://localhost:8080/",
          "height": 235
        },
        "id": "VG6h_C28mqDX",
        "outputId": "35b4c2f9-5324-4dac-a969-c55c0f3f1cfd"
      },
      "source": [
        "full_monte['info'].str.get_dummies('|')"
      ],
      "execution_count": 10,
      "outputs": [
        {
          "output_type": "execute_result",
          "data": {
            "text/html": [
              "<div>\n",
              "<style scoped>\n",
              "    .dataframe tbody tr th:only-of-type {\n",
              "        vertical-align: middle;\n",
              "    }\n",
              "\n",
              "    .dataframe tbody tr th {\n",
              "        vertical-align: top;\n",
              "    }\n",
              "\n",
              "    .dataframe thead th {\n",
              "        text-align: right;\n",
              "    }\n",
              "</style>\n",
              "<table border=\"1\" class=\"dataframe\">\n",
              "  <thead>\n",
              "    <tr style=\"text-align: right;\">\n",
              "      <th></th>\n",
              "      <th>A</th>\n",
              "      <th>B</th>\n",
              "      <th>C</th>\n",
              "      <th>D</th>\n",
              "    </tr>\n",
              "  </thead>\n",
              "  <tbody>\n",
              "    <tr>\n",
              "      <th>0</th>\n",
              "      <td>0</td>\n",
              "      <td>1</td>\n",
              "      <td>1</td>\n",
              "      <td>1</td>\n",
              "    </tr>\n",
              "    <tr>\n",
              "      <th>1</th>\n",
              "      <td>0</td>\n",
              "      <td>1</td>\n",
              "      <td>0</td>\n",
              "      <td>1</td>\n",
              "    </tr>\n",
              "    <tr>\n",
              "      <th>2</th>\n",
              "      <td>1</td>\n",
              "      <td>0</td>\n",
              "      <td>1</td>\n",
              "      <td>0</td>\n",
              "    </tr>\n",
              "    <tr>\n",
              "      <th>3</th>\n",
              "      <td>0</td>\n",
              "      <td>1</td>\n",
              "      <td>0</td>\n",
              "      <td>1</td>\n",
              "    </tr>\n",
              "    <tr>\n",
              "      <th>4</th>\n",
              "      <td>0</td>\n",
              "      <td>1</td>\n",
              "      <td>1</td>\n",
              "      <td>0</td>\n",
              "    </tr>\n",
              "    <tr>\n",
              "      <th>5</th>\n",
              "      <td>0</td>\n",
              "      <td>1</td>\n",
              "      <td>1</td>\n",
              "      <td>1</td>\n",
              "    </tr>\n",
              "  </tbody>\n",
              "</table>\n",
              "</div>"
            ],
            "text/plain": [
              "   A  B  C  D\n",
              "0  0  1  1  1\n",
              "1  0  1  0  1\n",
              "2  1  0  1  0\n",
              "3  0  1  0  1\n",
              "4  0  1  1  0\n",
              "5  0  1  1  1"
            ]
          },
          "metadata": {
            "tags": []
          },
          "execution_count": 10
        }
      ]
    },
    {
      "cell_type": "markdown",
      "metadata": {
        "id": "jj6H-7Pym7dM"
      },
      "source": [
        "# 시계열 다루기\r\n",
        "- time_stamp : 특정 시점\r\n",
        "- 시간 간격과 기간은 특정 시작점과 종료점 사이의 시간의 길이를 의미\r\n",
        "- 시간 델타(time delta)나 지속 기간(duration)은 정확한 시간 길이를 의미"
      ]
    },
    {
      "cell_type": "code",
      "metadata": {
        "colab": {
          "base_uri": "https://localhost:8080/"
        },
        "id": "8OVqvOScncpP",
        "outputId": "3f93338d-645f-4d2e-e3df-f46154b920d4"
      },
      "source": [
        "# 정규 날짜 시퀀스, 기본적으로 날짜 주기는 하루로 설정\r\n",
        "pd.date_range('2021-01-01', '2021-01-20')"
      ],
      "execution_count": 13,
      "outputs": [
        {
          "output_type": "execute_result",
          "data": {
            "text/plain": [
              "DatetimeIndex(['2021-01-01', '2021-01-02', '2021-01-03', '2021-01-04',\n",
              "               '2021-01-05', '2021-01-06', '2021-01-07', '2021-01-08',\n",
              "               '2021-01-09', '2021-01-10', '2021-01-11', '2021-01-12',\n",
              "               '2021-01-13', '2021-01-14', '2021-01-15', '2021-01-16',\n",
              "               '2021-01-17', '2021-01-18', '2021-01-19', '2021-01-20'],\n",
              "              dtype='datetime64[ns]', freq='D')"
            ]
          },
          "metadata": {
            "tags": []
          },
          "execution_count": 13
        }
      ]
    },
    {
      "cell_type": "code",
      "metadata": {
        "colab": {
          "base_uri": "https://localhost:8080/"
        },
        "id": "6GDGH7zSpF3T",
        "outputId": "03cedeed-24b6-4182-b98f-93dc6c95f842"
      },
      "source": [
        "# 시간단위의 타임 스탬프 범위\r\n",
        "pd.date_range('2021-01-01', '2021-01-02', freq='H')"
      ],
      "execution_count": 14,
      "outputs": [
        {
          "output_type": "execute_result",
          "data": {
            "text/plain": [
              "DatetimeIndex(['2021-01-01 00:00:00', '2021-01-01 01:00:00',\n",
              "               '2021-01-01 02:00:00', '2021-01-01 03:00:00',\n",
              "               '2021-01-01 04:00:00', '2021-01-01 05:00:00',\n",
              "               '2021-01-01 06:00:00', '2021-01-01 07:00:00',\n",
              "               '2021-01-01 08:00:00', '2021-01-01 09:00:00',\n",
              "               '2021-01-01 10:00:00', '2021-01-01 11:00:00',\n",
              "               '2021-01-01 12:00:00', '2021-01-01 13:00:00',\n",
              "               '2021-01-01 14:00:00', '2021-01-01 15:00:00',\n",
              "               '2021-01-01 16:00:00', '2021-01-01 17:00:00',\n",
              "               '2021-01-01 18:00:00', '2021-01-01 19:00:00',\n",
              "               '2021-01-01 20:00:00', '2021-01-01 21:00:00',\n",
              "               '2021-01-01 22:00:00', '2021-01-01 23:00:00',\n",
              "               '2021-01-02 00:00:00'],\n",
              "              dtype='datetime64[ns]', freq='H')"
            ]
          },
          "metadata": {
            "tags": []
          },
          "execution_count": 14
        }
      ]
    },
    {
      "cell_type": "code",
      "metadata": {
        "colab": {
          "base_uri": "https://localhost:8080/"
        },
        "id": "8Iy-LT4SpSi_",
        "outputId": "eb34742d-8b44-4fc4-c519-ffe5f837dafa"
      },
      "source": [
        "# 기간 정규 시퀀스 / 월 단위 기간\r\n",
        "pd.period_range('2021-01', '2021-05', freq='M')"
      ],
      "execution_count": 17,
      "outputs": [
        {
          "output_type": "execute_result",
          "data": {
            "text/plain": [
              "PeriodIndex(['2021-01', '2021-02', '2021-03', '2021-04', '2021-05'], dtype='period[M]', freq='M')"
            ]
          },
          "metadata": {
            "tags": []
          },
          "execution_count": 17
        }
      ]
    },
    {
      "cell_type": "code",
      "metadata": {
        "colab": {
          "base_uri": "https://localhost:8080/"
        },
        "id": "1DfJwvKEpq_A",
        "outputId": "53f883f7-e33c-4b61-80b4-66be3fac168a"
      },
      "source": [
        "# 시간 단위로 증가하는 기간의 시퀀스를 생성\r\n",
        "pd.timedelta_range(0, periods=25, freq='H')"
      ],
      "execution_count": 21,
      "outputs": [
        {
          "output_type": "execute_result",
          "data": {
            "text/plain": [
              "TimedeltaIndex(['0 days 00:00:00', '0 days 01:00:00', '0 days 02:00:00',\n",
              "                '0 days 03:00:00', '0 days 04:00:00', '0 days 05:00:00',\n",
              "                '0 days 06:00:00', '0 days 07:00:00', '0 days 08:00:00',\n",
              "                '0 days 09:00:00', '0 days 10:00:00', '0 days 11:00:00',\n",
              "                '0 days 12:00:00', '0 days 13:00:00', '0 days 14:00:00',\n",
              "                '0 days 15:00:00', '0 days 16:00:00', '0 days 17:00:00',\n",
              "                '0 days 18:00:00', '0 days 19:00:00', '0 days 20:00:00',\n",
              "                '0 days 21:00:00', '0 days 22:00:00', '0 days 23:00:00',\n",
              "                '1 days 00:00:00'],\n",
              "               dtype='timedelta64[ns]', freq='H')"
            ]
          },
          "metadata": {
            "tags": []
          },
          "execution_count": 21
        }
      ]
    },
    {
      "cell_type": "markdown",
      "metadata": {
        "id": "EMmqGCRTqFGv"
      },
      "source": [
        "# Pandas 주기 코드\r\n",
        "\r\n",
        "|코드|설명|코드|설명|\r\n",
        "|--|--|--|--|\r\n",
        "|D|달력상 일|T|분|\r\n",
        "|W|주|S|초|\r\n",
        "|M|월말|L|밀리초|\r\n",
        "|Q|분기말|U|마이크로초|\r\n",
        "|A|연말|N|나노초|\r\n",
        "|H|시간|||"
      ]
    },
    {
      "cell_type": "code",
      "metadata": {
        "colab": {
          "base_uri": "https://localhost:8080/",
          "height": 235
        },
        "id": "QzcGv2lIqA3U",
        "outputId": "bd2d0657-c0aa-4183-ba06-a954a14c4480"
      },
      "source": [
        "# 구글 종가 데이터\r\n",
        "from pandas_datareader import data\r\n",
        "\r\n",
        "goog = data.DataReader('GOOG',start='2004', end='2016', data_source='yahoo')\r\n",
        "goog.head()"
      ],
      "execution_count": 28,
      "outputs": [
        {
          "output_type": "execute_result",
          "data": {
            "text/html": [
              "<div>\n",
              "<style scoped>\n",
              "    .dataframe tbody tr th:only-of-type {\n",
              "        vertical-align: middle;\n",
              "    }\n",
              "\n",
              "    .dataframe tbody tr th {\n",
              "        vertical-align: top;\n",
              "    }\n",
              "\n",
              "    .dataframe thead th {\n",
              "        text-align: right;\n",
              "    }\n",
              "</style>\n",
              "<table border=\"1\" class=\"dataframe\">\n",
              "  <thead>\n",
              "    <tr style=\"text-align: right;\">\n",
              "      <th></th>\n",
              "      <th>High</th>\n",
              "      <th>Low</th>\n",
              "      <th>Open</th>\n",
              "      <th>Close</th>\n",
              "      <th>Volume</th>\n",
              "      <th>Adj Close</th>\n",
              "    </tr>\n",
              "    <tr>\n",
              "      <th>Date</th>\n",
              "      <th></th>\n",
              "      <th></th>\n",
              "      <th></th>\n",
              "      <th></th>\n",
              "      <th></th>\n",
              "      <th></th>\n",
              "    </tr>\n",
              "  </thead>\n",
              "  <tbody>\n",
              "    <tr>\n",
              "      <th>2004-08-19</th>\n",
              "      <td>51.835709</td>\n",
              "      <td>47.800831</td>\n",
              "      <td>49.813290</td>\n",
              "      <td>49.982655</td>\n",
              "      <td>44871361.0</td>\n",
              "      <td>49.982655</td>\n",
              "    </tr>\n",
              "    <tr>\n",
              "      <th>2004-08-20</th>\n",
              "      <td>54.336334</td>\n",
              "      <td>50.062355</td>\n",
              "      <td>50.316402</td>\n",
              "      <td>53.952770</td>\n",
              "      <td>22942874.0</td>\n",
              "      <td>53.952770</td>\n",
              "    </tr>\n",
              "    <tr>\n",
              "      <th>2004-08-23</th>\n",
              "      <td>56.528118</td>\n",
              "      <td>54.321388</td>\n",
              "      <td>55.168217</td>\n",
              "      <td>54.495735</td>\n",
              "      <td>18342897.0</td>\n",
              "      <td>54.495735</td>\n",
              "    </tr>\n",
              "    <tr>\n",
              "      <th>2004-08-24</th>\n",
              "      <td>55.591629</td>\n",
              "      <td>51.591621</td>\n",
              "      <td>55.412300</td>\n",
              "      <td>52.239197</td>\n",
              "      <td>15319808.0</td>\n",
              "      <td>52.239197</td>\n",
              "    </tr>\n",
              "    <tr>\n",
              "      <th>2004-08-25</th>\n",
              "      <td>53.798351</td>\n",
              "      <td>51.746044</td>\n",
              "      <td>52.284027</td>\n",
              "      <td>52.802086</td>\n",
              "      <td>9232276.0</td>\n",
              "      <td>52.802086</td>\n",
              "    </tr>\n",
              "  </tbody>\n",
              "</table>\n",
              "</div>"
            ],
            "text/plain": [
              "                 High        Low       Open      Close      Volume  Adj Close\n",
              "Date                                                                         \n",
              "2004-08-19  51.835709  47.800831  49.813290  49.982655  44871361.0  49.982655\n",
              "2004-08-20  54.336334  50.062355  50.316402  53.952770  22942874.0  53.952770\n",
              "2004-08-23  56.528118  54.321388  55.168217  54.495735  18342897.0  54.495735\n",
              "2004-08-24  55.591629  51.591621  55.412300  52.239197  15319808.0  52.239197\n",
              "2004-08-25  53.798351  51.746044  52.284027  52.802086   9232276.0  52.802086"
            ]
          },
          "metadata": {
            "tags": []
          },
          "execution_count": 28
        }
      ]
    },
    {
      "cell_type": "code",
      "metadata": {
        "id": "y6VXRcO0sgGf"
      },
      "source": [
        "goog = goog['Close']"
      ],
      "execution_count": 29,
      "outputs": []
    },
    {
      "cell_type": "code",
      "metadata": {
        "colab": {
          "base_uri": "https://localhost:8080/"
        },
        "id": "M0IJh4AYsH3v",
        "outputId": "b6f91794-d3f2-43e2-b610-5d39e63e77a8"
      },
      "source": [
        "%matplotlib\r\n",
        "import matplotlib.pyplot as plt\r\n",
        "import seaborn; seaborn.set()\r\n",
        "\r\n",
        "goog.plot();"
      ],
      "execution_count": 30,
      "outputs": [
        {
          "output_type": "stream",
          "text": [
            "Using matplotlib backend: agg\n"
          ],
          "name": "stdout"
        }
      ]
    },
    {
      "cell_type": "markdown",
      "metadata": {
        "id": "TSLuvMkpspdn"
      },
      "source": [
        "## 리샘플링 및 주기 변경\r\n",
        "- resample() : 데이터를 집계 \r\n",
        "- asfreq() : 데이터를 선택"
      ]
    },
    {
      "cell_type": "code",
      "metadata": {
        "id": "TC0y-K8ksl67"
      },
      "source": [
        "# 다운 샘플링_ 영업일 기준 연말 데이터를 리샘플링함\r\n",
        "goog.plot(alpha=0.5, style='-')\r\n",
        "goog.resample('BA').mean().plot(style=':')\r\n",
        "goog.asfreq('BA').plot(style='--');\r\n",
        "plt.legend(['input', 'resample', 'asfreq'], loc='upper left');\r\n",
        "\r\n",
        "# resample은 전년도 평균을 / asfreq는 연말 주가를 보여줌"
      ],
      "execution_count": 31,
      "outputs": []
    },
    {
      "cell_type": "code",
      "metadata": {
        "colab": {
          "base_uri": "https://localhost:8080/"
        },
        "id": "DdFeE9ZZt-nV",
        "outputId": "db92dd87-80ad-49c8-ac4f-17bdecaaf130"
      },
      "source": [
        "# 영업일 데이터를 일별 주기로 리샘플링함\r\n",
        "flg, ax = plt.subplots(2, sharex=True)\r\n",
        "data = goog.iloc[:10]\r\n",
        "\r\n",
        "data.asfreq('D').plot(ax=ax[0], marker='o')\r\n",
        "\r\n",
        "data.asfreq('D', method='bfill').plot(ax=ax[1], style='-o')\r\n",
        "data.asfreq('D', method='ffill').plot(ax=ax[1], style='--o')\r\n",
        "ax[1].legend([\"back-fill\", \"forward-fill\"])\r\n",
        "\r\n",
        "# 영업일이 아닌 날은 NA값으로 두기 때문에 그래프 상 표시X\r\n",
        "# 순방향 채우기 / 역방향 채우기"
      ],
      "execution_count": 32,
      "outputs": [
        {
          "output_type": "execute_result",
          "data": {
            "text/plain": [
              "<matplotlib.legend.Legend at 0x7fed4000fef0>"
            ]
          },
          "metadata": {
            "tags": []
          },
          "execution_count": 32
        }
      ]
    },
    {
      "cell_type": "markdown",
      "metadata": {
        "id": "CCLTcVnHvM3V"
      },
      "source": [
        "## 시간 이동(Time-shift)\r\n",
        "- shift() : 데이터를 이동\r\n",
        "- tshift() : 인덱스를 이동"
      ]
    },
    {
      "cell_type": "code",
      "metadata": {
        "colab": {
          "base_uri": "https://localhost:8080/",
          "height": 412
        },
        "id": "nxUp24XLu8-n",
        "outputId": "f6fbb6c8-924b-49df-fca2-27b863e13125"
      },
      "source": [
        "# 이동된 값을 이용해 구글 주가의 연간 투자 대비 효과를 계산\r\n",
        "ROI = 100 * (goog.tshift(-365) / goog - 1)\r\n",
        "ROI.plot()\r\n",
        "plt.ylabel('% Return on Investment');"
      ],
      "execution_count": 35,
      "outputs": [
        {
          "output_type": "stream",
          "text": [
            "/usr/local/lib/python3.6/dist-packages/ipykernel_launcher.py:2: FutureWarning: tshift is deprecated and will be removed in a future version. Please use shift instead.\n",
            "  \n"
          ],
          "name": "stderr"
        },
        {
          "output_type": "error",
          "ename": "ValueError",
          "evalue": "ignored",
          "traceback": [
            "\u001b[0;31m---------------------------------------------------------------------------\u001b[0m",
            "\u001b[0;31mValueError\u001b[0m                                Traceback (most recent call last)",
            "\u001b[0;32m<ipython-input-35-3882033639a0>\u001b[0m in \u001b[0;36m<module>\u001b[0;34m()\u001b[0m\n\u001b[1;32m      1\u001b[0m \u001b[0;31m# 이동된 값을 이용해 구글 주가의 연간 투자 대비 효과를 계산\u001b[0m\u001b[0;34m\u001b[0m\u001b[0;34m\u001b[0m\u001b[0;34m\u001b[0m\u001b[0m\n\u001b[0;32m----> 2\u001b[0;31m \u001b[0mROI\u001b[0m \u001b[0;34m=\u001b[0m \u001b[0;36m100\u001b[0m \u001b[0;34m*\u001b[0m \u001b[0;34m(\u001b[0m\u001b[0mgoog\u001b[0m\u001b[0;34m.\u001b[0m\u001b[0mtshift\u001b[0m\u001b[0;34m(\u001b[0m\u001b[0;34m-\u001b[0m\u001b[0;36m365\u001b[0m\u001b[0;34m)\u001b[0m \u001b[0;34m/\u001b[0m \u001b[0mgoog\u001b[0m \u001b[0;34m-\u001b[0m \u001b[0;36m1\u001b[0m\u001b[0;34m)\u001b[0m\u001b[0;34m\u001b[0m\u001b[0;34m\u001b[0m\u001b[0m\n\u001b[0m\u001b[1;32m      3\u001b[0m \u001b[0mROI\u001b[0m\u001b[0;34m.\u001b[0m\u001b[0mplot\u001b[0m\u001b[0;34m(\u001b[0m\u001b[0;34m)\u001b[0m\u001b[0;34m\u001b[0m\u001b[0;34m\u001b[0m\u001b[0m\n\u001b[1;32m      4\u001b[0m \u001b[0mplt\u001b[0m\u001b[0;34m.\u001b[0m\u001b[0mylabel\u001b[0m\u001b[0;34m(\u001b[0m\u001b[0;34m'% Return on Investment'\u001b[0m\u001b[0;34m)\u001b[0m\u001b[0;34m;\u001b[0m\u001b[0;34m\u001b[0m\u001b[0;34m\u001b[0m\u001b[0m\n",
            "\u001b[0;32m/usr/local/lib/python3.6/dist-packages/pandas/core/generic.py\u001b[0m in \u001b[0;36mtshift\u001b[0;34m(self, periods, freq, axis)\u001b[0m\n\u001b[1;32m   9272\u001b[0m             \u001b[0mfreq\u001b[0m \u001b[0;34m=\u001b[0m \u001b[0;34m\"infer\"\u001b[0m\u001b[0;34m\u001b[0m\u001b[0;34m\u001b[0m\u001b[0m\n\u001b[1;32m   9273\u001b[0m \u001b[0;34m\u001b[0m\u001b[0m\n\u001b[0;32m-> 9274\u001b[0;31m         \u001b[0;32mreturn\u001b[0m \u001b[0mself\u001b[0m\u001b[0;34m.\u001b[0m\u001b[0mshift\u001b[0m\u001b[0;34m(\u001b[0m\u001b[0mperiods\u001b[0m\u001b[0;34m,\u001b[0m \u001b[0mfreq\u001b[0m\u001b[0;34m,\u001b[0m \u001b[0maxis\u001b[0m\u001b[0;34m)\u001b[0m\u001b[0;34m\u001b[0m\u001b[0;34m\u001b[0m\u001b[0m\n\u001b[0m\u001b[1;32m   9275\u001b[0m \u001b[0;34m\u001b[0m\u001b[0m\n\u001b[1;32m   9276\u001b[0m     def truncate(\n",
            "\u001b[0;32m/usr/local/lib/python3.6/dist-packages/pandas/core/series.py\u001b[0m in \u001b[0;36mshift\u001b[0;34m(self, periods, freq, axis, fill_value)\u001b[0m\n\u001b[1;32m   4586\u001b[0m     \u001b[0;32mdef\u001b[0m \u001b[0mshift\u001b[0m\u001b[0;34m(\u001b[0m\u001b[0mself\u001b[0m\u001b[0;34m,\u001b[0m \u001b[0mperiods\u001b[0m\u001b[0;34m=\u001b[0m\u001b[0;36m1\u001b[0m\u001b[0;34m,\u001b[0m \u001b[0mfreq\u001b[0m\u001b[0;34m=\u001b[0m\u001b[0;32mNone\u001b[0m\u001b[0;34m,\u001b[0m \u001b[0maxis\u001b[0m\u001b[0;34m=\u001b[0m\u001b[0;36m0\u001b[0m\u001b[0;34m,\u001b[0m \u001b[0mfill_value\u001b[0m\u001b[0;34m=\u001b[0m\u001b[0;32mNone\u001b[0m\u001b[0;34m)\u001b[0m \u001b[0;34m->\u001b[0m \u001b[0;34m\"Series\"\u001b[0m\u001b[0;34m:\u001b[0m\u001b[0;34m\u001b[0m\u001b[0;34m\u001b[0m\u001b[0m\n\u001b[1;32m   4587\u001b[0m         return super().shift(\n\u001b[0;32m-> 4588\u001b[0;31m             \u001b[0mperiods\u001b[0m\u001b[0;34m=\u001b[0m\u001b[0mperiods\u001b[0m\u001b[0;34m,\u001b[0m \u001b[0mfreq\u001b[0m\u001b[0;34m=\u001b[0m\u001b[0mfreq\u001b[0m\u001b[0;34m,\u001b[0m \u001b[0maxis\u001b[0m\u001b[0;34m=\u001b[0m\u001b[0maxis\u001b[0m\u001b[0;34m,\u001b[0m \u001b[0mfill_value\u001b[0m\u001b[0;34m=\u001b[0m\u001b[0mfill_value\u001b[0m\u001b[0;34m\u001b[0m\u001b[0;34m\u001b[0m\u001b[0m\n\u001b[0m\u001b[1;32m   4589\u001b[0m         )\n\u001b[1;32m   4590\u001b[0m \u001b[0;34m\u001b[0m\u001b[0m\n",
            "\u001b[0;32m/usr/local/lib/python3.6/dist-packages/pandas/core/generic.py\u001b[0m in \u001b[0;36mshift\u001b[0;34m(self, periods, freq, axis, fill_value)\u001b[0m\n\u001b[1;32m   9174\u001b[0m             \u001b[0;32mif\u001b[0m \u001b[0mfreq\u001b[0m \u001b[0;32mis\u001b[0m \u001b[0;32mNone\u001b[0m\u001b[0;34m:\u001b[0m\u001b[0;34m\u001b[0m\u001b[0;34m\u001b[0m\u001b[0m\n\u001b[1;32m   9175\u001b[0m                 \u001b[0mmsg\u001b[0m \u001b[0;34m=\u001b[0m \u001b[0;34m\"Freq was not set in the index hence cannot be inferred\"\u001b[0m\u001b[0;34m\u001b[0m\u001b[0;34m\u001b[0m\u001b[0m\n\u001b[0;32m-> 9176\u001b[0;31m                 \u001b[0;32mraise\u001b[0m \u001b[0mValueError\u001b[0m\u001b[0;34m(\u001b[0m\u001b[0mmsg\u001b[0m\u001b[0;34m)\u001b[0m\u001b[0;34m\u001b[0m\u001b[0;34m\u001b[0m\u001b[0m\n\u001b[0m\u001b[1;32m   9177\u001b[0m \u001b[0;34m\u001b[0m\u001b[0m\n\u001b[1;32m   9178\u001b[0m         \u001b[0;32melif\u001b[0m \u001b[0misinstance\u001b[0m\u001b[0;34m(\u001b[0m\u001b[0mfreq\u001b[0m\u001b[0;34m,\u001b[0m \u001b[0mstr\u001b[0m\u001b[0;34m)\u001b[0m\u001b[0;34m:\u001b[0m\u001b[0;34m\u001b[0m\u001b[0;34m\u001b[0m\u001b[0m\n",
            "\u001b[0;31mValueError\u001b[0m: Freq was not set in the index hence cannot be inferred"
          ]
        }
      ]
    },
    {
      "cell_type": "code",
      "metadata": {
        "colab": {
          "base_uri": "https://localhost:8080/",
          "height": 136
        },
        "id": "Ell3mqC2xR4p",
        "outputId": "190a051e-fe9b-4a03-b651-424b467d76bb"
      },
      "source": [
        "# 롤링 윈도우(rolling windows)\r\n",
        "rolling = goog.rolling(365, center=True)\r\n",
        "\r\n",
        "data = pd.DataFrame({'input' : goog, 'one-year rolling_mean' : rolling.mean(). 'one-year rolling_std' : rolling.std()})\r\n",
        "ax = data.plot(style=['-','--',':'])\r\n",
        "ax.lines[0].set_alpha(0,3)"
      ],
      "execution_count": 37,
      "outputs": [
        {
          "output_type": "error",
          "ename": "SyntaxError",
          "evalue": "ignored",
          "traceback": [
            "\u001b[0;36m  File \u001b[0;32m\"<ipython-input-37-dd19c8b62f42>\"\u001b[0;36m, line \u001b[0;32m4\u001b[0m\n\u001b[0;31m    data = pd.DataFrame({'input' : goog, 'one-year rolling_mean' : rolling.mean(). 'one-year rolling_std' : rolling.std()})\u001b[0m\n\u001b[0m                                                                                                        ^\u001b[0m\n\u001b[0;31mSyntaxError\u001b[0m\u001b[0;31m:\u001b[0m invalid syntax\n"
          ]
        }
      ]
    }
  ]
}